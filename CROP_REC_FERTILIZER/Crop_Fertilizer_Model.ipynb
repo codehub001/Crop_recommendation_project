{
 "cells": [
  {
   "cell_type": "code",
   "execution_count": 1,
   "metadata": {},
   "outputs": [],
   "source": [
    "# Importing libraries\n",
    "\n",
    "from __future__ import print_function\n",
    "import pandas as pd\n",
    "import numpy as np\n",
    "import matplotlib.pyplot as plt\n",
    "import seaborn as sns\n",
    "from sklearn.metrics import classification_report\n",
    "from sklearn import metrics\n",
    "from sklearn import tree\n",
    "import warnings\n",
    "warnings.filterwarnings('ignore')"
   ]
  },
  {
   "cell_type": "code",
   "execution_count": 2,
   "metadata": {},
   "outputs": [],
   "source": [
    "df = pd.read_csv('Crop and fertilizer dataset.csv')"
   ]
  },
  {
   "cell_type": "code",
   "execution_count": 3,
   "metadata": {},
   "outputs": [
    {
     "data": {
      "text/html": [
       "<div>\n",
       "<style scoped>\n",
       "    .dataframe tbody tr th:only-of-type {\n",
       "        vertical-align: middle;\n",
       "    }\n",
       "\n",
       "    .dataframe tbody tr th {\n",
       "        vertical-align: top;\n",
       "    }\n",
       "\n",
       "    .dataframe thead th {\n",
       "        text-align: right;\n",
       "    }\n",
       "</style>\n",
       "<table border=\"1\" class=\"dataframe\">\n",
       "  <thead>\n",
       "    <tr style=\"text-align: right;\">\n",
       "      <th></th>\n",
       "      <th>Soil_color</th>\n",
       "      <th>Nitrogen</th>\n",
       "      <th>Phosphorus</th>\n",
       "      <th>Potassium</th>\n",
       "      <th>pH</th>\n",
       "      <th>Rainfall</th>\n",
       "      <th>Temperature</th>\n",
       "      <th>Crop</th>\n",
       "      <th>Fertilizer</th>\n",
       "    </tr>\n",
       "  </thead>\n",
       "  <tbody>\n",
       "    <tr>\n",
       "      <th>0</th>\n",
       "      <td>0</td>\n",
       "      <td>75</td>\n",
       "      <td>50</td>\n",
       "      <td>100</td>\n",
       "      <td>6.5</td>\n",
       "      <td>1000</td>\n",
       "      <td>20</td>\n",
       "      <td>Sugarcane</td>\n",
       "      <td>Urea</td>\n",
       "    </tr>\n",
       "    <tr>\n",
       "      <th>1</th>\n",
       "      <td>0</td>\n",
       "      <td>80</td>\n",
       "      <td>50</td>\n",
       "      <td>100</td>\n",
       "      <td>6.5</td>\n",
       "      <td>1000</td>\n",
       "      <td>20</td>\n",
       "      <td>Sugarcane</td>\n",
       "      <td>Urea</td>\n",
       "    </tr>\n",
       "    <tr>\n",
       "      <th>2</th>\n",
       "      <td>0</td>\n",
       "      <td>85</td>\n",
       "      <td>50</td>\n",
       "      <td>100</td>\n",
       "      <td>6.5</td>\n",
       "      <td>1000</td>\n",
       "      <td>20</td>\n",
       "      <td>Sugarcane</td>\n",
       "      <td>Urea</td>\n",
       "    </tr>\n",
       "    <tr>\n",
       "      <th>3</th>\n",
       "      <td>0</td>\n",
       "      <td>90</td>\n",
       "      <td>50</td>\n",
       "      <td>100</td>\n",
       "      <td>6.5</td>\n",
       "      <td>1000</td>\n",
       "      <td>20</td>\n",
       "      <td>Sugarcane</td>\n",
       "      <td>Urea</td>\n",
       "    </tr>\n",
       "    <tr>\n",
       "      <th>4</th>\n",
       "      <td>0</td>\n",
       "      <td>95</td>\n",
       "      <td>50</td>\n",
       "      <td>100</td>\n",
       "      <td>6.5</td>\n",
       "      <td>1000</td>\n",
       "      <td>20</td>\n",
       "      <td>Sugarcane</td>\n",
       "      <td>Urea</td>\n",
       "    </tr>\n",
       "  </tbody>\n",
       "</table>\n",
       "</div>"
      ],
      "text/plain": [
       "   Soil_color  Nitrogen  Phosphorus  Potassium   pH  Rainfall  Temperature  \\\n",
       "0           0        75          50        100  6.5      1000           20   \n",
       "1           0        80          50        100  6.5      1000           20   \n",
       "2           0        85          50        100  6.5      1000           20   \n",
       "3           0        90          50        100  6.5      1000           20   \n",
       "4           0        95          50        100  6.5      1000           20   \n",
       "\n",
       "        Crop Fertilizer  \n",
       "0  Sugarcane       Urea  \n",
       "1  Sugarcane       Urea  \n",
       "2  Sugarcane       Urea  \n",
       "3  Sugarcane       Urea  \n",
       "4  Sugarcane       Urea  "
      ]
     },
     "execution_count": 3,
     "metadata": {},
     "output_type": "execute_result"
    }
   ],
   "source": [
    "df.head()"
   ]
  },
  {
   "cell_type": "code",
   "execution_count": 4,
   "metadata": {},
   "outputs": [
    {
     "data": {
      "text/html": [
       "<div>\n",
       "<style scoped>\n",
       "    .dataframe tbody tr th:only-of-type {\n",
       "        vertical-align: middle;\n",
       "    }\n",
       "\n",
       "    .dataframe tbody tr th {\n",
       "        vertical-align: top;\n",
       "    }\n",
       "\n",
       "    .dataframe thead th {\n",
       "        text-align: right;\n",
       "    }\n",
       "</style>\n",
       "<table border=\"1\" class=\"dataframe\">\n",
       "  <thead>\n",
       "    <tr style=\"text-align: right;\">\n",
       "      <th></th>\n",
       "      <th>Soil_color</th>\n",
       "      <th>Nitrogen</th>\n",
       "      <th>Phosphorus</th>\n",
       "      <th>Potassium</th>\n",
       "      <th>pH</th>\n",
       "      <th>Rainfall</th>\n",
       "      <th>Temperature</th>\n",
       "      <th>Crop</th>\n",
       "      <th>Fertilizer</th>\n",
       "    </tr>\n",
       "  </thead>\n",
       "  <tbody>\n",
       "    <tr>\n",
       "      <th>4508</th>\n",
       "      <td>0</td>\n",
       "      <td>130</td>\n",
       "      <td>80</td>\n",
       "      <td>150</td>\n",
       "      <td>7.0</td>\n",
       "      <td>1400</td>\n",
       "      <td>30</td>\n",
       "      <td>Sugarcane</td>\n",
       "      <td>MOP</td>\n",
       "    </tr>\n",
       "    <tr>\n",
       "      <th>4509</th>\n",
       "      <td>0</td>\n",
       "      <td>135</td>\n",
       "      <td>80</td>\n",
       "      <td>150</td>\n",
       "      <td>7.0</td>\n",
       "      <td>1400</td>\n",
       "      <td>30</td>\n",
       "      <td>Sugarcane</td>\n",
       "      <td>MOP</td>\n",
       "    </tr>\n",
       "    <tr>\n",
       "      <th>4510</th>\n",
       "      <td>0</td>\n",
       "      <td>140</td>\n",
       "      <td>80</td>\n",
       "      <td>150</td>\n",
       "      <td>7.0</td>\n",
       "      <td>1400</td>\n",
       "      <td>30</td>\n",
       "      <td>Sugarcane</td>\n",
       "      <td>MOP</td>\n",
       "    </tr>\n",
       "    <tr>\n",
       "      <th>4511</th>\n",
       "      <td>0</td>\n",
       "      <td>145</td>\n",
       "      <td>80</td>\n",
       "      <td>150</td>\n",
       "      <td>7.0</td>\n",
       "      <td>1400</td>\n",
       "      <td>30</td>\n",
       "      <td>Sugarcane</td>\n",
       "      <td>MOP</td>\n",
       "    </tr>\n",
       "    <tr>\n",
       "      <th>4512</th>\n",
       "      <td>0</td>\n",
       "      <td>150</td>\n",
       "      <td>80</td>\n",
       "      <td>150</td>\n",
       "      <td>7.0</td>\n",
       "      <td>1400</td>\n",
       "      <td>30</td>\n",
       "      <td>Sugarcane</td>\n",
       "      <td>MOP</td>\n",
       "    </tr>\n",
       "  </tbody>\n",
       "</table>\n",
       "</div>"
      ],
      "text/plain": [
       "      Soil_color  Nitrogen  Phosphorus  Potassium   pH  Rainfall  Temperature  \\\n",
       "4508           0       130          80        150  7.0      1400           30   \n",
       "4509           0       135          80        150  7.0      1400           30   \n",
       "4510           0       140          80        150  7.0      1400           30   \n",
       "4511           0       145          80        150  7.0      1400           30   \n",
       "4512           0       150          80        150  7.0      1400           30   \n",
       "\n",
       "           Crop Fertilizer  \n",
       "4508  Sugarcane        MOP  \n",
       "4509  Sugarcane        MOP  \n",
       "4510  Sugarcane        MOP  \n",
       "4511  Sugarcane        MOP  \n",
       "4512  Sugarcane        MOP  "
      ]
     },
     "execution_count": 4,
     "metadata": {},
     "output_type": "execute_result"
    }
   ],
   "source": [
    "df.tail()"
   ]
  },
  {
   "cell_type": "code",
   "execution_count": 5,
   "metadata": {},
   "outputs": [
    {
     "data": {
      "text/plain": [
       "40617"
      ]
     },
     "execution_count": 5,
     "metadata": {},
     "output_type": "execute_result"
    }
   ],
   "source": [
    "df.size"
   ]
  },
  {
   "cell_type": "code",
   "execution_count": 6,
   "metadata": {},
   "outputs": [
    {
     "data": {
      "text/plain": [
       "(4513, 9)"
      ]
     },
     "execution_count": 6,
     "metadata": {},
     "output_type": "execute_result"
    }
   ],
   "source": [
    "df.shape"
   ]
  },
  {
   "cell_type": "code",
   "execution_count": 7,
   "metadata": {},
   "outputs": [
    {
     "data": {
      "text/plain": [
       "Index(['Soil_color', 'Nitrogen', 'Phosphorus', 'Potassium', 'pH', 'Rainfall',\n",
       "       'Temperature', 'Crop', 'Fertilizer'],\n",
       "      dtype='object')"
      ]
     },
     "execution_count": 7,
     "metadata": {},
     "output_type": "execute_result"
    }
   ],
   "source": [
    "df.columns"
   ]
  },
  {
   "cell_type": "code",
   "execution_count": 16,
   "metadata": {},
   "outputs": [
    {
     "name": "stdout",
     "output_type": "stream",
     "text": [
      "Crop label encoding completed and saved to 'crop_label_mapping.txt'.\n"
     ]
    }
   ],
   "source": [
    "from sklearn.preprocessing import LabelEncoder\n",
    "\n",
    "# Label encoding the 'Crop' column\n",
    "le = LabelEncoder()\n",
    "df['Crop'] = le.fit_transform(df['Crop'])\n",
    "\n",
    "# Creating a mapping of crop names to their numerical values\n",
    "crop_mapping = dict(zip(le.classes_, le.transform(le.classes_)))\n",
    "\n",
    "# Saving the mapping to a text file\n",
    "with open('crop_label_mapping.txt', 'w') as file:\n",
    "    for crop, label in crop_mapping.items():\n",
    "        file.write(f\"{crop}: {label}\\n\")\n",
    "\n",
    "print(\"Crop label encoding completed and saved to 'crop_label_mapping.txt'.\")"
   ]
  },
  {
   "cell_type": "code",
   "execution_count": 17,
   "metadata": {},
   "outputs": [
    {
     "data": {
      "text/html": [
       "<div>\n",
       "<style scoped>\n",
       "    .dataframe tbody tr th:only-of-type {\n",
       "        vertical-align: middle;\n",
       "    }\n",
       "\n",
       "    .dataframe tbody tr th {\n",
       "        vertical-align: top;\n",
       "    }\n",
       "\n",
       "    .dataframe thead th {\n",
       "        text-align: right;\n",
       "    }\n",
       "</style>\n",
       "<table border=\"1\" class=\"dataframe\">\n",
       "  <thead>\n",
       "    <tr style=\"text-align: right;\">\n",
       "      <th></th>\n",
       "      <th>Soil_color</th>\n",
       "      <th>Nitrogen</th>\n",
       "      <th>Phosphorus</th>\n",
       "      <th>Potassium</th>\n",
       "      <th>pH</th>\n",
       "      <th>Rainfall</th>\n",
       "      <th>Temperature</th>\n",
       "      <th>Crop</th>\n",
       "      <th>Fertilizer</th>\n",
       "    </tr>\n",
       "  </thead>\n",
       "  <tbody>\n",
       "    <tr>\n",
       "      <th>0</th>\n",
       "      <td>0</td>\n",
       "      <td>75</td>\n",
       "      <td>50</td>\n",
       "      <td>100</td>\n",
       "      <td>6.5</td>\n",
       "      <td>1000</td>\n",
       "      <td>20</td>\n",
       "      <td>11</td>\n",
       "      <td>Urea</td>\n",
       "    </tr>\n",
       "    <tr>\n",
       "      <th>1</th>\n",
       "      <td>0</td>\n",
       "      <td>80</td>\n",
       "      <td>50</td>\n",
       "      <td>100</td>\n",
       "      <td>6.5</td>\n",
       "      <td>1000</td>\n",
       "      <td>20</td>\n",
       "      <td>11</td>\n",
       "      <td>Urea</td>\n",
       "    </tr>\n",
       "    <tr>\n",
       "      <th>2</th>\n",
       "      <td>0</td>\n",
       "      <td>85</td>\n",
       "      <td>50</td>\n",
       "      <td>100</td>\n",
       "      <td>6.5</td>\n",
       "      <td>1000</td>\n",
       "      <td>20</td>\n",
       "      <td>11</td>\n",
       "      <td>Urea</td>\n",
       "    </tr>\n",
       "    <tr>\n",
       "      <th>3</th>\n",
       "      <td>0</td>\n",
       "      <td>90</td>\n",
       "      <td>50</td>\n",
       "      <td>100</td>\n",
       "      <td>6.5</td>\n",
       "      <td>1000</td>\n",
       "      <td>20</td>\n",
       "      <td>11</td>\n",
       "      <td>Urea</td>\n",
       "    </tr>\n",
       "    <tr>\n",
       "      <th>4</th>\n",
       "      <td>0</td>\n",
       "      <td>95</td>\n",
       "      <td>50</td>\n",
       "      <td>100</td>\n",
       "      <td>6.5</td>\n",
       "      <td>1000</td>\n",
       "      <td>20</td>\n",
       "      <td>11</td>\n",
       "      <td>Urea</td>\n",
       "    </tr>\n",
       "    <tr>\n",
       "      <th>5</th>\n",
       "      <td>0</td>\n",
       "      <td>100</td>\n",
       "      <td>50</td>\n",
       "      <td>100</td>\n",
       "      <td>6.5</td>\n",
       "      <td>1000</td>\n",
       "      <td>20</td>\n",
       "      <td>11</td>\n",
       "      <td>Urea</td>\n",
       "    </tr>\n",
       "    <tr>\n",
       "      <th>6</th>\n",
       "      <td>0</td>\n",
       "      <td>75</td>\n",
       "      <td>55</td>\n",
       "      <td>105</td>\n",
       "      <td>7.0</td>\n",
       "      <td>1100</td>\n",
       "      <td>25</td>\n",
       "      <td>11</td>\n",
       "      <td>Urea</td>\n",
       "    </tr>\n",
       "    <tr>\n",
       "      <th>7</th>\n",
       "      <td>0</td>\n",
       "      <td>80</td>\n",
       "      <td>55</td>\n",
       "      <td>105</td>\n",
       "      <td>7.0</td>\n",
       "      <td>1100</td>\n",
       "      <td>25</td>\n",
       "      <td>11</td>\n",
       "      <td>Urea</td>\n",
       "    </tr>\n",
       "    <tr>\n",
       "      <th>8</th>\n",
       "      <td>0</td>\n",
       "      <td>85</td>\n",
       "      <td>55</td>\n",
       "      <td>105</td>\n",
       "      <td>7.0</td>\n",
       "      <td>1100</td>\n",
       "      <td>25</td>\n",
       "      <td>11</td>\n",
       "      <td>Urea</td>\n",
       "    </tr>\n",
       "    <tr>\n",
       "      <th>9</th>\n",
       "      <td>0</td>\n",
       "      <td>90</td>\n",
       "      <td>55</td>\n",
       "      <td>105</td>\n",
       "      <td>7.0</td>\n",
       "      <td>1100</td>\n",
       "      <td>25</td>\n",
       "      <td>11</td>\n",
       "      <td>Urea</td>\n",
       "    </tr>\n",
       "  </tbody>\n",
       "</table>\n",
       "</div>"
      ],
      "text/plain": [
       "   Soil_color  Nitrogen  Phosphorus  Potassium   pH  Rainfall  Temperature  \\\n",
       "0           0        75          50        100  6.5      1000           20   \n",
       "1           0        80          50        100  6.5      1000           20   \n",
       "2           0        85          50        100  6.5      1000           20   \n",
       "3           0        90          50        100  6.5      1000           20   \n",
       "4           0        95          50        100  6.5      1000           20   \n",
       "5           0       100          50        100  6.5      1000           20   \n",
       "6           0        75          55        105  7.0      1100           25   \n",
       "7           0        80          55        105  7.0      1100           25   \n",
       "8           0        85          55        105  7.0      1100           25   \n",
       "9           0        90          55        105  7.0      1100           25   \n",
       "\n",
       "   Crop Fertilizer  \n",
       "0    11       Urea  \n",
       "1    11       Urea  \n",
       "2    11       Urea  \n",
       "3    11       Urea  \n",
       "4    11       Urea  \n",
       "5    11       Urea  \n",
       "6    11       Urea  \n",
       "7    11       Urea  \n",
       "8    11       Urea  \n",
       "9    11       Urea  "
      ]
     },
     "execution_count": 17,
     "metadata": {},
     "output_type": "execute_result"
    }
   ],
   "source": [
    "df.head(10)"
   ]
  },
  {
   "cell_type": "code",
   "execution_count": 18,
   "metadata": {},
   "outputs": [
    {
     "data": {
      "text/plain": [
       "array(['Urea', 'DAP', 'MOP', '10:26:26 NPK', 'SSP', 'Magnesium Sulphate',\n",
       "       '13:32:26 NPK', '12:32:16 NPK', '50:26:26 NPK', '19:19:19 NPK',\n",
       "       'Chilated Micronutrient', '18:46:00 NPK', 'Sulphur',\n",
       "       '20:20:20 NPK', 'Ammonium Sulphate', 'Ferrous Sulphate',\n",
       "       'White Potash', '10:10:10 NPK', 'Hydrated Lime'], dtype=object)"
      ]
     },
     "execution_count": 18,
     "metadata": {},
     "output_type": "execute_result"
    }
   ],
   "source": [
    "df['Fertilizer'].unique()"
   ]
  },
  {
   "cell_type": "code",
   "execution_count": 19,
   "metadata": {},
   "outputs": [
    {
     "data": {
      "text/plain": [
       "Soil_color       int64\n",
       "Nitrogen         int64\n",
       "Phosphorus       int64\n",
       "Potassium        int64\n",
       "pH             float64\n",
       "Rainfall         int64\n",
       "Temperature      int64\n",
       "Crop             int32\n",
       "Fertilizer      object\n",
       "dtype: object"
      ]
     },
     "execution_count": 19,
     "metadata": {},
     "output_type": "execute_result"
    }
   ],
   "source": [
    "df.dtypes"
   ]
  },
  {
   "cell_type": "code",
   "execution_count": 20,
   "metadata": {},
   "outputs": [
    {
     "data": {
      "text/plain": [
       "Urea                      1364\n",
       "DAP                        667\n",
       "MOP                        571\n",
       "19:19:19 NPK               480\n",
       "SSP                        417\n",
       "Magnesium Sulphate         215\n",
       "10:26:26 NPK               156\n",
       "50:26:26 NPK               124\n",
       "Chilated Micronutrient     108\n",
       "12:32:16 NPK               106\n",
       "Ferrous Sulphate            68\n",
       "13:32:26 NPK                66\n",
       "Ammonium Sulphate           50\n",
       "10:10:10 NPK                50\n",
       "Hydrated Lime               25\n",
       "White Potash                19\n",
       "20:20:20 NPK                15\n",
       "18:46:00 NPK                 6\n",
       "Sulphur                      6\n",
       "Name: Fertilizer, dtype: int64"
      ]
     },
     "execution_count": 20,
     "metadata": {},
     "output_type": "execute_result"
    }
   ],
   "source": [
    "df['Fertilizer'].value_counts()"
   ]
  },
  {
   "cell_type": "code",
   "execution_count": 21,
   "metadata": {},
   "outputs": [
    {
     "data": {
      "text/plain": [
       "<AxesSubplot:>"
      ]
     },
     "execution_count": 21,
     "metadata": {},
     "output_type": "execute_result"
    },
    {
     "data": {
      "image/png": "[encoded data removed]",
      "text/plain": [
       "<Figure size 640x480 with 2 Axes>"
      ]
     },
     "metadata": {},
     "output_type": "display_data"
    }
   ],
   "source": [
    "sns.heatmap(df.corr(),annot=True)"
   ]
  },
  {
   "cell_type": "markdown",
   "metadata": {},
   "source": [
    "### Seperating features and target label"
   ]
  },
  {
   "cell_type": "code",
   "execution_count": 22,
   "metadata": {},
   "outputs": [],
   "source": [
    "features = df[['Soil_color', 'Nitrogen', 'Phosphorus', 'Potassium', 'pH', 'Rainfall',\n",
    "       'Temperature','Crop']]\n",
    "target = df['Fertilizer']\n"
   ]
  },
  {
   "cell_type": "code",
   "execution_count": 23,
   "metadata": {},
   "outputs": [],
   "source": [
    "# Initialzing empty lists to append all model's name and corresponding name\n",
    "acc = []\n",
    "model = []"
   ]
  },
  {
   "cell_type": "code",
   "execution_count": 24,
   "metadata": {},
   "outputs": [],
   "source": [
    "# Splitting into train and test data\n",
    "\n",
    "from sklearn.model_selection import train_test_split\n",
    "Xtrain, Xtest, Ytrain, Ytest = train_test_split(features,target,test_size = 0.2,random_state =2)"
   ]
  },
  {
   "cell_type": "markdown",
   "metadata": {},
   "source": [
    "# Decision Tree"
   ]
  },
  {
   "cell_type": "code",
   "execution_count": 25,
   "metadata": {},
   "outputs": [
    {
     "name": "stdout",
     "output_type": "stream",
     "text": [
      "DecisionTrees's Accuracy is:  44.518272425249165\n",
      "                        precision    recall  f1-score   support\n",
      "\n",
      "          10:10:10 NPK       0.50      0.36      0.42        14\n",
      "          10:26:26 NPK       0.37      1.00      0.54        33\n",
      "          12:32:16 NPK       0.50      0.17      0.25        24\n",
      "          13:32:26 NPK       0.00      0.00      0.00        15\n",
      "          18:46:00 NPK       0.00      0.00      0.00         0\n",
      "          19:19:19 NPK       0.61      0.84      0.71        98\n",
      "          20:20:20 NPK       0.33      1.00      0.50         3\n",
      "          50:26:26 NPK       0.00      0.00      0.00        26\n",
      "     Ammonium Sulphate       0.33      0.25      0.29         8\n",
      "Chilated Micronutrient       0.64      1.00      0.78        21\n",
      "                   DAP       0.39      0.39      0.39       131\n",
      "      Ferrous Sulphate       0.44      0.57      0.50        14\n",
      "         Hydrated Lime       1.00      0.25      0.40         4\n",
      "                   MOP       0.60      0.16      0.25       113\n",
      "    Magnesium Sulphate       0.30      0.07      0.11        45\n",
      "                   SSP       0.39      0.40      0.40        98\n",
      "                  Urea       0.41      0.51      0.46       254\n",
      "          White Potash       0.29      1.00      0.44         2\n",
      "\n",
      "              accuracy                           0.45       903\n",
      "             macro avg       0.40      0.44      0.36       903\n",
      "          weighted avg       0.44      0.45      0.41       903\n",
      "\n"
     ]
    }
   ],
   "source": [
    "from sklearn.tree import DecisionTreeClassifier\n",
    "\n",
    "DecisionTree = DecisionTreeClassifier(criterion=\"entropy\",random_state=2,max_depth=5)\n",
    "\n",
    "DecisionTree.fit(Xtrain,Ytrain)\n",
    "\n",
    "predicted_values = DecisionTree.predict(Xtest)\n",
    "x = metrics.accuracy_score(Ytest, predicted_values)\n",
    "acc.append(x)\n",
    "model.append('Decision Tree')\n",
    "print(\"DecisionTrees's Accuracy is: \", x*100)\n",
    "\n",
    "print(classification_report(Ytest,predicted_values))"
   ]
  },
  {
   "cell_type": "code",
   "execution_count": 26,
   "metadata": {},
   "outputs": [],
   "source": [
    "from sklearn.model_selection import cross_val_score"
   ]
  },
  {
   "cell_type": "code",
   "execution_count": 27,
   "metadata": {},
   "outputs": [],
   "source": [
    "# Cross validation score (Decision Tree)\n",
    "score = cross_val_score(DecisionTree, features, target,cv=5)"
   ]
  },
  {
   "cell_type": "code",
   "execution_count": 28,
   "metadata": {},
   "outputs": [
    {
     "data": {
      "text/plain": [
       "array([0.29900332, 0.24473976, 0.22259136, 0.22062084, 0.33924612])"
      ]
     },
     "execution_count": 28,
     "metadata": {},
     "output_type": "execute_result"
    }
   ],
   "source": [
    "score"
   ]
  },
  {
   "cell_type": "markdown",
   "metadata": {},
   "source": [
    "### Saving trained Decision Tree model"
   ]
  },
  {
   "cell_type": "code",
   "execution_count": 29,
   "metadata": {},
   "outputs": [],
   "source": [
    "import pickle\n",
    "# Dump the trained Naive Bayes classifier with Pickle\n",
    "DT_pkl_filename = 'models_fer/DecisionTree.pkl'\n",
    "# Open the file to save as pkl file\n",
    "DT_Model_pkl = open(DT_pkl_filename, 'wb')\n",
    "pickle.dump(DecisionTree, DT_Model_pkl)\n",
    "# Close the pickle instances\n",
    "DT_Model_pkl.close()"
   ]
  },
  {
   "cell_type": "markdown",
   "metadata": {},
   "source": [
    "# Guassian Naive Bayes"
   ]
  },
  {
   "cell_type": "code",
   "execution_count": 30,
   "metadata": {},
   "outputs": [
    {
     "name": "stdout",
     "output_type": "stream",
     "text": [
      "Naive Bayes's Accuracy is:  0.4019933554817276\n",
      "                        precision    recall  f1-score   support\n",
      "\n",
      "          10:10:10 NPK       0.43      0.71      0.54        14\n",
      "          10:26:26 NPK       0.37      1.00      0.54        33\n",
      "          12:32:16 NPK       0.32      0.50      0.39        24\n",
      "          13:32:26 NPK       0.16      1.00      0.28        15\n",
      "          18:46:00 NPK       0.00      0.00      0.00         0\n",
      "          19:19:19 NPK       0.56      1.00      0.72        98\n",
      "          20:20:20 NPK       0.33      1.00      0.50         3\n",
      "          50:26:26 NPK       0.45      1.00      0.62        26\n",
      "     Ammonium Sulphate       0.38      1.00      0.55         8\n",
      "Chilated Micronutrient       0.62      0.95      0.75        21\n",
      "                   DAP       0.29      0.02      0.03       131\n",
      "      Ferrous Sulphate       0.00      0.00      0.00        14\n",
      "         Hydrated Lime       0.17      0.25      0.20         4\n",
      "                   MOP       0.42      0.58      0.49       113\n",
      "    Magnesium Sulphate       0.50      0.09      0.15        45\n",
      "                   SSP       0.35      0.33      0.34        98\n",
      "                  Urea       0.36      0.12      0.18       254\n",
      "          White Potash       0.29      1.00      0.44         2\n",
      "\n",
      "              accuracy                           0.40       903\n",
      "             macro avg       0.33      0.59      0.37       903\n",
      "          weighted avg       0.38      0.40      0.33       903\n",
      "\n"
     ]
    }
   ],
   "source": [
    "from sklearn.naive_bayes import GaussianNB\n",
    "\n",
    "NaiveBayes = GaussianNB()\n",
    "\n",
    "NaiveBayes.fit(Xtrain,Ytrain)\n",
    "\n",
    "predicted_values = NaiveBayes.predict(Xtest)\n",
    "x = metrics.accuracy_score(Ytest, predicted_values)\n",
    "acc.append(x)\n",
    "model.append('Naive Bayes')\n",
    "print(\"Naive Bayes's Accuracy is: \", x)\n",
    "\n",
    "print(classification_report(Ytest,predicted_values))"
   ]
  },
  {
   "cell_type": "code",
   "execution_count": 31,
   "metadata": {},
   "outputs": [
    {
     "data": {
      "text/plain": [
       "array([0.3145072 , 0.41085271, 0.36766334, 0.36252772, 0.4368071 ])"
      ]
     },
     "execution_count": 31,
     "metadata": {},
     "output_type": "execute_result"
    }
   ],
   "source": [
    "# Cross validation score (NaiveBayes)\n",
    "score = cross_val_score(NaiveBayes,features,target,cv=5)\n",
    "score"
   ]
  },
  {
   "cell_type": "markdown",
   "metadata": {},
   "source": [
    "### Saving trained Guassian Naive Bayes model"
   ]
  },
  {
   "cell_type": "code",
   "execution_count": 32,
   "metadata": {},
   "outputs": [],
   "source": [
    "import pickle\n",
    "# Dump the trained Naive Bayes classifier with Pickle\n",
    "NB_pkl_filename = 'models_fer/NBClassifier.pkl'\n",
    "# Open the file to save as pkl file\n",
    "NB_Model_pkl = open(NB_pkl_filename, 'wb')\n",
    "pickle.dump(NaiveBayes, NB_Model_pkl)\n",
    "# Close the pickle instances\n",
    "NB_Model_pkl.close()"
   ]
  },
  {
   "cell_type": "markdown",
   "metadata": {},
   "source": [
    "# Support Vector Machine (SVM)"
   ]
  },
  {
   "cell_type": "code",
   "execution_count": 33,
   "metadata": {},
   "outputs": [
    {
     "name": "stdout",
     "output_type": "stream",
     "text": [
      "SVM's Accuracy is:  0.4728682170542636\n",
      "                        precision    recall  f1-score   support\n",
      "\n",
      "          10:10:10 NPK       0.50      0.36      0.42        14\n",
      "          10:26:26 NPK       0.29      0.18      0.22        33\n",
      "          12:32:16 NPK       0.47      0.29      0.36        24\n",
      "          13:32:26 NPK       0.43      0.20      0.27        15\n",
      "          19:19:19 NPK       0.62      0.80      0.70        98\n",
      "          20:20:20 NPK       0.00      0.00      0.00         3\n",
      "          50:26:26 NPK       0.83      0.19      0.31        26\n",
      "     Ammonium Sulphate       0.27      0.50      0.35         8\n",
      "Chilated Micronutrient       0.57      0.62      0.59        21\n",
      "                   DAP       0.45      0.40      0.42       131\n",
      "      Ferrous Sulphate       0.39      0.50      0.44        14\n",
      "         Hydrated Lime       0.75      0.75      0.75         4\n",
      "                   MOP       0.55      0.58      0.57       113\n",
      "    Magnesium Sulphate       0.32      0.22      0.26        45\n",
      "                   SSP       0.48      0.20      0.29        98\n",
      "                  Urea       0.43      0.58      0.49       254\n",
      "          White Potash       0.00      0.00      0.00         2\n",
      "\n",
      "              accuracy                           0.47       903\n",
      "             macro avg       0.43      0.38      0.38       903\n",
      "          weighted avg       0.48      0.47      0.45       903\n",
      "\n"
     ]
    }
   ],
   "source": [
    "from sklearn.svm import SVC\n",
    "# data normalization with sklearn\n",
    "from sklearn.preprocessing import MinMaxScaler\n",
    "# fit scaler on training data\n",
    "norm = MinMaxScaler().fit(Xtrain)\n",
    "X_train_norm = norm.transform(Xtrain)\n",
    "# transform testing dataabs\n",
    "X_test_norm = norm.transform(Xtest)\n",
    "SVM = SVC(kernel='poly', degree=3, C=1)\n",
    "SVM.fit(X_train_norm,Ytrain)\n",
    "predicted_values = SVM.predict(X_test_norm)\n",
    "x = metrics.accuracy_score(Ytest, predicted_values)\n",
    "acc.append(x)\n",
    "model.append('SVM')\n",
    "print(\"SVM's Accuracy is: \", x)\n",
    "\n",
    "print(classification_report(Ytest,predicted_values))"
   ]
  },
  {
   "cell_type": "code",
   "execution_count": 34,
   "metadata": {},
   "outputs": [
    {
     "data": {
      "text/plain": [
       "array([0.30232558, 0.30232558, 0.25359911, 0.25498891, 0.29600887])"
      ]
     },
     "execution_count": 34,
     "metadata": {},
     "output_type": "execute_result"
    }
   ],
   "source": [
    "# Cross validation score (SVM)\n",
    "score = cross_val_score(SVM,features,target,cv=5)\n",
    "score"
   ]
  },
  {
   "cell_type": "code",
   "execution_count": 35,
   "metadata": {},
   "outputs": [],
   "source": [
    "#Saving trained SVM model"
   ]
  },
  {
   "cell_type": "code",
   "execution_count": 36,
   "metadata": {},
   "outputs": [],
   "source": [
    "import pickle\n",
    "# Dump the trained SVM classifier with Pickle\n",
    "SVM_pkl_filename = 'models_fer/SVMClassifier.pkl'\n",
    "# Open the file to save as pkl file\n",
    "SVM_Model_pkl = open(SVM_pkl_filename, 'wb')\n",
    "pickle.dump(SVM, SVM_Model_pkl)\n",
    "# Close the pickle instances\n",
    "SVM_Model_pkl.close()"
   ]
  },
  {
   "cell_type": "markdown",
   "metadata": {},
   "source": [
    "# Logistic Regression"
   ]
  },
  {
   "cell_type": "code",
   "execution_count": 37,
   "metadata": {},
   "outputs": [
    {
     "name": "stdout",
     "output_type": "stream",
     "text": [
      "Logistic Regression's Accuracy is:  0.3289036544850498\n",
      "                        precision    recall  f1-score   support\n",
      "\n",
      "          10:10:10 NPK       0.33      0.07      0.12        14\n",
      "          10:26:26 NPK       0.00      0.00      0.00        33\n",
      "          12:32:16 NPK       0.00      0.00      0.00        24\n",
      "          13:32:26 NPK       0.00      0.00      0.00        15\n",
      "          19:19:19 NPK       0.18      0.02      0.04        98\n",
      "          20:20:20 NPK       0.00      0.00      0.00         3\n",
      "          50:26:26 NPK       0.30      0.12      0.17        26\n",
      "     Ammonium Sulphate       0.00      0.00      0.00         8\n",
      "Chilated Micronutrient       0.26      0.24      0.25        21\n",
      "                   DAP       0.34      0.33      0.33       131\n",
      "      Ferrous Sulphate       0.00      0.00      0.00        14\n",
      "         Hydrated Lime       0.00      0.00      0.00         4\n",
      "                   MOP       0.23      0.06      0.10       113\n",
      "    Magnesium Sulphate       0.12      0.02      0.04        45\n",
      "                   SSP       0.38      0.12      0.18        98\n",
      "                  Urea       0.34      0.88      0.49       254\n",
      "          White Potash       0.00      0.00      0.00         2\n",
      "\n",
      "              accuracy                           0.33       903\n",
      "             macro avg       0.15      0.11      0.10       903\n",
      "          weighted avg       0.26      0.33      0.24       903\n",
      "\n"
     ]
    }
   ],
   "source": [
    "from sklearn.linear_model import LogisticRegression\n",
    "\n",
    "LogReg = LogisticRegression(random_state=2)\n",
    "\n",
    "LogReg.fit(Xtrain,Ytrain)\n",
    "\n",
    "predicted_values = LogReg.predict(Xtest)\n",
    "\n",
    "x = metrics.accuracy_score(Ytest, predicted_values)\n",
    "acc.append(x)\n",
    "model.append('Logistic Regression')\n",
    "print(\"Logistic Regression's Accuracy is: \", x)\n",
    "\n",
    "print(classification_report(Ytest,predicted_values))"
   ]
  },
  {
   "cell_type": "code",
   "execution_count": 38,
   "metadata": {},
   "outputs": [
    {
     "data": {
      "text/plain": [
       "array([0.35658915, 0.2923588 , 0.29014396, 0.2405765 , 0.33037694])"
      ]
     },
     "execution_count": 38,
     "metadata": {},
     "output_type": "execute_result"
    }
   ],
   "source": [
    "# Cross validation score (Logistic Regression)\n",
    "score = cross_val_score(LogReg,features,target,cv=5)\n",
    "score"
   ]
  },
  {
   "cell_type": "markdown",
   "metadata": {},
   "source": [
    "### Saving trained Logistic Regression model"
   ]
  },
  {
   "cell_type": "code",
   "execution_count": 39,
   "metadata": {},
   "outputs": [],
   "source": [
    "import pickle\n",
    "# Dump the trained Naive Bayes classifier with Pickle\n",
    "LR_pkl_filename = 'models_fer/LogisticRegression.pkl'\n",
    "# Open the file to save as pkl file\n",
    "LR_Model_pkl = open(DT_pkl_filename, 'wb')\n",
    "pickle.dump(LogReg, LR_Model_pkl)\n",
    "# Close the pickle instances\n",
    "LR_Model_pkl.close()"
   ]
  },
  {
   "cell_type": "markdown",
   "metadata": {},
   "source": [
    "# Random Forest"
   ]
  },
  {
   "cell_type": "code",
   "execution_count": 40,
   "metadata": {},
   "outputs": [
    {
     "name": "stdout",
     "output_type": "stream",
     "text": [
      "RF's Accuracy is:  0.9258028792912514\n",
      "                        precision    recall  f1-score   support\n",
      "\n",
      "          10:10:10 NPK       0.87      0.93      0.90        14\n",
      "          10:26:26 NPK       0.77      0.91      0.83        33\n",
      "          12:32:16 NPK       0.92      0.96      0.94        24\n",
      "          13:32:26 NPK       1.00      1.00      1.00        15\n",
      "          19:19:19 NPK       0.91      0.98      0.94        98\n",
      "          20:20:20 NPK       1.00      1.00      1.00         3\n",
      "          50:26:26 NPK       0.96      1.00      0.98        26\n",
      "     Ammonium Sulphate       1.00      1.00      1.00         8\n",
      "Chilated Micronutrient       0.84      1.00      0.91        21\n",
      "                   DAP       0.95      0.95      0.95       131\n",
      "      Ferrous Sulphate       0.92      0.79      0.85        14\n",
      "         Hydrated Lime       1.00      1.00      1.00         4\n",
      "                   MOP       0.93      0.98      0.95       113\n",
      "    Magnesium Sulphate       1.00      0.96      0.98        45\n",
      "                   SSP       0.93      0.80      0.86        98\n",
      "                  Urea       0.93      0.89      0.91       254\n",
      "          White Potash       1.00      1.00      1.00         2\n",
      "\n",
      "              accuracy                           0.93       903\n",
      "             macro avg       0.94      0.95      0.94       903\n",
      "          weighted avg       0.93      0.93      0.93       903\n",
      "\n"
     ]
    }
   ],
   "source": [
    "from sklearn.ensemble import RandomForestClassifier\n",
    "\n",
    "RF = RandomForestClassifier(n_estimators=20, random_state=0)\n",
    "RF.fit(Xtrain,Ytrain)\n",
    "\n",
    "predicted_values = RF.predict(Xtest)\n",
    "\n",
    "x = metrics.accuracy_score(Ytest, predicted_values)\n",
    "acc.append(x)\n",
    "model.append('RF')\n",
    "print(\"RF's Accuracy is: \", x)\n",
    "\n",
    "print(classification_report(Ytest,predicted_values))"
   ]
  },
  {
   "cell_type": "code",
   "execution_count": 41,
   "metadata": {},
   "outputs": [
    {
     "data": {
      "text/plain": [
       "array([0.28903654, 0.2248062 , 0.23809524, 0.21618625, 0.2827051 ])"
      ]
     },
     "execution_count": 41,
     "metadata": {},
     "output_type": "execute_result"
    }
   ],
   "source": [
    "# Cross validation score (Random Forest)\n",
    "score = cross_val_score(RF,features,target,cv=5)\n",
    "score"
   ]
  },
  {
   "cell_type": "markdown",
   "metadata": {},
   "source": [
    "### Saving trained Random Forest model"
   ]
  },
  {
   "cell_type": "code",
   "execution_count": 42,
   "metadata": {},
   "outputs": [],
   "source": [
    "import pickle\n",
    "# Dump the trained Naive Bayes classifier with Pickle\n",
    "RF_pkl_filename = 'models_fer/RandomForest.pkl'\n",
    "# Open the file to save as pkl file\n",
    "RF_Model_pkl = open(RF_pkl_filename, 'wb')\n",
    "pickle.dump(RF, RF_Model_pkl)\n",
    "# Close the pickle instances\n",
    "RF_Model_pkl.close()"
   ]
  },
  {
   "cell_type": "markdown",
   "metadata": {},
   "source": [
    "# XGBoost"
   ]
  },
  {
   "cell_type": "code",
   "execution_count": 43,
   "metadata": {
    "scrolled": true
   },
   "outputs": [
    {
     "name": "stdout",
     "output_type": "stream",
     "text": [
      "[15:54:54] WARNING: C:/Users/Administrator/workspace/xgboost-win64_release_1.5.0/src/learner.cc:1115: Starting in XGBoost 1.3.0, the default evaluation metric used with the objective 'multi:softprob' was changed from 'merror' to 'mlogloss'. Explicitly set eval_metric if you'd like to restore the old behavior.\n",
      "XGBoost's Accuracy is:  0.973421926910299\n",
      "                        precision    recall  f1-score   support\n",
      "\n",
      "          10:10:10 NPK       1.00      1.00      1.00        14\n",
      "          10:26:26 NPK       1.00      1.00      1.00        33\n",
      "          12:32:16 NPK       0.96      1.00      0.98        24\n",
      "          13:32:26 NPK       1.00      1.00      1.00        15\n",
      "          19:19:19 NPK       0.97      0.99      0.98        98\n",
      "          20:20:20 NPK       1.00      1.00      1.00         3\n",
      "          50:26:26 NPK       0.96      1.00      0.98        26\n",
      "     Ammonium Sulphate       1.00      1.00      1.00         8\n",
      "Chilated Micronutrient       0.91      0.95      0.93        21\n",
      "                   DAP       0.99      0.98      0.99       131\n",
      "      Ferrous Sulphate       1.00      1.00      1.00        14\n",
      "         Hydrated Lime       1.00      1.00      1.00         4\n",
      "                   MOP       0.99      0.97      0.98       113\n",
      "    Magnesium Sulphate       1.00      1.00      1.00        45\n",
      "                   SSP       0.96      0.92      0.94        98\n",
      "                  Urea       0.96      0.97      0.96       254\n",
      "          White Potash       1.00      0.50      0.67         2\n",
      "\n",
      "              accuracy                           0.97       903\n",
      "             macro avg       0.98      0.96      0.97       903\n",
      "          weighted avg       0.97      0.97      0.97       903\n",
      "\n"
     ]
    }
   ],
   "source": [
    "import xgboost as xgb\n",
    "XB = xgb.XGBClassifier()\n",
    "XB.fit(Xtrain,Ytrain)\n",
    "\n",
    "predicted_values = XB.predict(Xtest)\n",
    "\n",
    "x = metrics.accuracy_score(Ytest, predicted_values)\n",
    "acc.append(x)\n",
    "model.append('XGBoost')\n",
    "print(\"XGBoost's Accuracy is: \", x)\n",
    "\n",
    "print(classification_report(Ytest,predicted_values))"
   ]
  },
  {
   "cell_type": "code",
   "execution_count": 44,
   "metadata": {},
   "outputs": [
    {
     "name": "stdout",
     "output_type": "stream",
     "text": [
      "[15:54:56] WARNING: C:/Users/Administrator/workspace/xgboost-win64_release_1.5.0/src/learner.cc:1115: Starting in XGBoost 1.3.0, the default evaluation metric used with the objective 'multi:softprob' was changed from 'merror' to 'mlogloss'. Explicitly set eval_metric if you'd like to restore the old behavior.\n",
      "[15:54:57] WARNING: C:/Users/Administrator/workspace/xgboost-win64_release_1.5.0/src/learner.cc:1115: Starting in XGBoost 1.3.0, the default evaluation metric used with the objective 'multi:softprob' was changed from 'merror' to 'mlogloss'. Explicitly set eval_metric if you'd like to restore the old behavior.\n",
      "[15:54:59] WARNING: C:/Users/Administrator/workspace/xgboost-win64_release_1.5.0/src/learner.cc:1115: Starting in XGBoost 1.3.0, the default evaluation metric used with the objective 'multi:softprob' was changed from 'merror' to 'mlogloss'. Explicitly set eval_metric if you'd like to restore the old behavior.\n",
      "[15:55:01] WARNING: C:/Users/Administrator/workspace/xgboost-win64_release_1.5.0/src/learner.cc:1115: Starting in XGBoost 1.3.0, the default evaluation metric used with the objective 'multi:softprob' was changed from 'merror' to 'mlogloss'. Explicitly set eval_metric if you'd like to restore the old behavior.\n",
      "[15:55:02] WARNING: C:/Users/Administrator/workspace/xgboost-win64_release_1.5.0/src/learner.cc:1115: Starting in XGBoost 1.3.0, the default evaluation metric used with the objective 'multi:softprob' was changed from 'merror' to 'mlogloss'. Explicitly set eval_metric if you'd like to restore the old behavior.\n"
     ]
    },
    {
     "data": {
      "text/plain": [
       "array([0.33665559, 0.27906977, 0.21816168, 0.29933481, 0.30266075])"
      ]
     },
     "execution_count": 44,
     "metadata": {},
     "output_type": "execute_result"
    }
   ],
   "source": [
    "# Cross validation score (XGBoost)\n",
    "score = cross_val_score(XB,features,target,cv=5)\n",
    "score"
   ]
  },
  {
   "cell_type": "markdown",
   "metadata": {},
   "source": [
    "### Saving trained XGBoost model"
   ]
  },
  {
   "cell_type": "code",
   "execution_count": 45,
   "metadata": {},
   "outputs": [],
   "source": [
    "import pickle\n",
    "# Dump the trained Naive Bayes classifier with Pickle\n",
    "XB_pkl_filename = 'models_fer/XGBoost.pkl'\n",
    "# Open the file to save as pkl file\n",
    "XB_Model_pkl = open(XB_pkl_filename, 'wb')\n",
    "pickle.dump(XB, XB_Model_pkl)\n",
    "# Close the pickle instances\n",
    "XB_Model_pkl.close()"
   ]
  },
  {
   "cell_type": "markdown",
   "metadata": {},
   "source": [
    "## Accuracy Comparison"
   ]
  },
  {
   "cell_type": "code",
   "execution_count": 46,
   "metadata": {},
   "outputs": [
    {
     "data": {
      "text/plain": [
       "<AxesSubplot:title={'center':'Accuracy Comparison'}, xlabel='Accuracy', ylabel='Algorithm'>"
      ]
     },
     "execution_count": 46,
     "metadata": {},
     "output_type": "execute_result"
    },
    {
     "data": {
      "image/png": "[encoded data removed]",
      "text/plain": [
       "<Figure size 1000x500 with 1 Axes>"
      ]
     },
     "metadata": {},
     "output_type": "display_data"
    }
   ],
   "source": [
    "plt.figure(figsize=[10,5],dpi = 100)\n",
    "plt.title('Accuracy Comparison')\n",
    "plt.xlabel('Accuracy')\n",
    "plt.ylabel('Algorithm')\n",
    "sns.barplot(x = acc,y = model,palette='dark')"
   ]
  },
  {
   "cell_type": "code",
   "execution_count": 47,
   "metadata": {},
   "outputs": [
    {
     "name": "stdout",
     "output_type": "stream",
     "text": [
      "Decision Tree -->  44.52\n",
      "Naive Bayes -->  40.20\n",
      "SVM -->  47.29\n",
      "Logistic Regression -->  32.89\n",
      "RF -->  92.58\n",
      "XGBoost -->  97.34\n"
     ]
    }
   ],
   "source": [
    "accuracy_models = dict(zip(model, acc))\n",
    "for k, v in accuracy_models.items():\n",
    "    print (f\"{k} -->  {v*100:.2f}\")"
   ]
  },
  {
   "cell_type": "markdown",
   "metadata": {},
   "source": [
    "## Making a prediction"
   ]
  },
  {
   "cell_type": "code",
   "execution_count": 50,
   "metadata": {},
   "outputs": [
    {
     "name": "stdout",
     "output_type": "stream",
     "text": [
      "DAP\n"
     ]
    }
   ],
   "source": [
    "data = np.array([[4,115,40,50,6,800,25,1]])\n",
    "prediction = RF.predict(data)[0]\n",
    "print(prediction)"
   ]
  },
  {
   "cell_type": "code",
   "execution_count": 52,
   "metadata": {},
   "outputs": [
    {
     "name": "stdout",
     "output_type": "stream",
     "text": [
      "18:46:00 NPK\n"
     ]
    }
   ],
   "source": [
    "data = np.array([[0,50,20,25,7,800,25,1]])\n",
    "prediction = RF.predict(data)[0]\n",
    "print(prediction)"
   ]
  },
  {
   "cell_type": "code",
   "execution_count": null,
   "metadata": {},
   "outputs": [],
   "source": []
  }
 ],
 "metadata": {
  "kernelspec": {
   "display_name": "Python 3 (ipykernel)",
   "language": "python",
   "name": "python3"
  },
  "language_info": {
   "codemirror_mode": {
    "name": "ipython",
    "version": 3
   },
   "file_extension": ".py",
   "mimetype": "text/x-python",
   "name": "python",
   "nbconvert_exporter": "python",
   "pygments_lexer": "ipython3",
   "version": "3.7.1"
  }
 },
 "nbformat": 4,
 "nbformat_minor": 4
}
