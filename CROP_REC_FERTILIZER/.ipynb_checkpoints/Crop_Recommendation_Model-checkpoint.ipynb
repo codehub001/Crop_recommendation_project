{
 "cells": [
  {
   "cell_type": "code",
   "execution_count": 1,
   "metadata": {},
   "outputs": [],
   "source": [
    "# Importing libraries\n",
    "\n",
    "from __future__ import print_function\n",
    "import pandas as pd\n",
    "import numpy as np\n",
    "import matplotlib.pyplot as plt\n",
    "import seaborn as sns\n",
    "from sklearn.metrics import classification_report\n",
    "from sklearn import metrics\n",
    "from sklearn import tree\n",
    "import warnings\n",
    "warnings.filterwarnings('ignore')"
   ]
  },
  {
   "cell_type": "code",
   "execution_count": 2,
   "metadata": {},
   "outputs": [],
   "source": [
    "df = pd.read_csv('Crop and fertilizer dataset.csv')"
   ]
  },
  {
   "cell_type": "code",
   "execution_count": 3,
   "metadata": {},
   "outputs": [
    {
     "data": {
      "text/html": [
       "<div>\n",
       "<style scoped>\n",
       "    .dataframe tbody tr th:only-of-type {\n",
       "        vertical-align: middle;\n",
       "    }\n",
       "\n",
       "    .dataframe tbody tr th {\n",
       "        vertical-align: top;\n",
       "    }\n",
       "\n",
       "    .dataframe thead th {\n",
       "        text-align: right;\n",
       "    }\n",
       "</style>\n",
       "<table border=\"1\" class=\"dataframe\">\n",
       "  <thead>\n",
       "    <tr style=\"text-align: right;\">\n",
       "      <th></th>\n",
       "      <th>Soil_color</th>\n",
       "      <th>Nitrogen</th>\n",
       "      <th>Phosphorus</th>\n",
       "      <th>Potassium</th>\n",
       "      <th>pH</th>\n",
       "      <th>Rainfall</th>\n",
       "      <th>Temperature</th>\n",
       "      <th>Crop</th>\n",
       "      <th>Fertilizer</th>\n",
       "    </tr>\n",
       "  </thead>\n",
       "  <tbody>\n",
       "    <tr>\n",
       "      <th>0</th>\n",
       "      <td>0</td>\n",
       "      <td>75</td>\n",
       "      <td>50</td>\n",
       "      <td>100</td>\n",
       "      <td>6.5</td>\n",
       "      <td>1000</td>\n",
       "      <td>20</td>\n",
       "      <td>Sugarcane</td>\n",
       "      <td>Urea</td>\n",
       "    </tr>\n",
       "    <tr>\n",
       "      <th>1</th>\n",
       "      <td>0</td>\n",
       "      <td>80</td>\n",
       "      <td>50</td>\n",
       "      <td>100</td>\n",
       "      <td>6.5</td>\n",
       "      <td>1000</td>\n",
       "      <td>20</td>\n",
       "      <td>Sugarcane</td>\n",
       "      <td>Urea</td>\n",
       "    </tr>\n",
       "    <tr>\n",
       "      <th>2</th>\n",
       "      <td>0</td>\n",
       "      <td>85</td>\n",
       "      <td>50</td>\n",
       "      <td>100</td>\n",
       "      <td>6.5</td>\n",
       "      <td>1000</td>\n",
       "      <td>20</td>\n",
       "      <td>Sugarcane</td>\n",
       "      <td>Urea</td>\n",
       "    </tr>\n",
       "    <tr>\n",
       "      <th>3</th>\n",
       "      <td>0</td>\n",
       "      <td>90</td>\n",
       "      <td>50</td>\n",
       "      <td>100</td>\n",
       "      <td>6.5</td>\n",
       "      <td>1000</td>\n",
       "      <td>20</td>\n",
       "      <td>Sugarcane</td>\n",
       "      <td>Urea</td>\n",
       "    </tr>\n",
       "    <tr>\n",
       "      <th>4</th>\n",
       "      <td>0</td>\n",
       "      <td>95</td>\n",
       "      <td>50</td>\n",
       "      <td>100</td>\n",
       "      <td>6.5</td>\n",
       "      <td>1000</td>\n",
       "      <td>20</td>\n",
       "      <td>Sugarcane</td>\n",
       "      <td>Urea</td>\n",
       "    </tr>\n",
       "  </tbody>\n",
       "</table>\n",
       "</div>"
      ],
      "text/plain": [
       "   Soil_color  Nitrogen  Phosphorus  Potassium   pH  Rainfall  Temperature  \\\n",
       "0           0        75          50        100  6.5      1000           20   \n",
       "1           0        80          50        100  6.5      1000           20   \n",
       "2           0        85          50        100  6.5      1000           20   \n",
       "3           0        90          50        100  6.5      1000           20   \n",
       "4           0        95          50        100  6.5      1000           20   \n",
       "\n",
       "        Crop Fertilizer  \n",
       "0  Sugarcane       Urea  \n",
       "1  Sugarcane       Urea  \n",
       "2  Sugarcane       Urea  \n",
       "3  Sugarcane       Urea  \n",
       "4  Sugarcane       Urea  "
      ]
     },
     "execution_count": 3,
     "metadata": {},
     "output_type": "execute_result"
    }
   ],
   "source": [
    "df.head()"
   ]
  },
  {
   "cell_type": "code",
   "execution_count": 6,
   "metadata": {},
   "outputs": [
    {
     "data": {
      "text/html": [
       "<div>\n",
       "<style scoped>\n",
       "    .dataframe tbody tr th:only-of-type {\n",
       "        vertical-align: middle;\n",
       "    }\n",
       "\n",
       "    .dataframe tbody tr th {\n",
       "        vertical-align: top;\n",
       "    }\n",
       "\n",
       "    .dataframe thead th {\n",
       "        text-align: right;\n",
       "    }\n",
       "</style>\n",
       "<table border=\"1\" class=\"dataframe\">\n",
       "  <thead>\n",
       "    <tr style=\"text-align: right;\">\n",
       "      <th></th>\n",
       "      <th>Soil_color</th>\n",
       "      <th>Nitrogen</th>\n",
       "      <th>Phosphorus</th>\n",
       "      <th>Potassium</th>\n",
       "      <th>pH</th>\n",
       "      <th>Rainfall</th>\n",
       "      <th>Temperature</th>\n",
       "      <th>Crop</th>\n",
       "      <th>Fertilizer</th>\n",
       "    </tr>\n",
       "  </thead>\n",
       "  <tbody>\n",
       "    <tr>\n",
       "      <th>4508</th>\n",
       "      <td>0</td>\n",
       "      <td>130</td>\n",
       "      <td>80</td>\n",
       "      <td>150</td>\n",
       "      <td>7.0</td>\n",
       "      <td>1400</td>\n",
       "      <td>30</td>\n",
       "      <td>Sugarcane</td>\n",
       "      <td>MOP</td>\n",
       "    </tr>\n",
       "    <tr>\n",
       "      <th>4509</th>\n",
       "      <td>0</td>\n",
       "      <td>135</td>\n",
       "      <td>80</td>\n",
       "      <td>150</td>\n",
       "      <td>7.0</td>\n",
       "      <td>1400</td>\n",
       "      <td>30</td>\n",
       "      <td>Sugarcane</td>\n",
       "      <td>MOP</td>\n",
       "    </tr>\n",
       "    <tr>\n",
       "      <th>4510</th>\n",
       "      <td>0</td>\n",
       "      <td>140</td>\n",
       "      <td>80</td>\n",
       "      <td>150</td>\n",
       "      <td>7.0</td>\n",
       "      <td>1400</td>\n",
       "      <td>30</td>\n",
       "      <td>Sugarcane</td>\n",
       "      <td>MOP</td>\n",
       "    </tr>\n",
       "    <tr>\n",
       "      <th>4511</th>\n",
       "      <td>0</td>\n",
       "      <td>145</td>\n",
       "      <td>80</td>\n",
       "      <td>150</td>\n",
       "      <td>7.0</td>\n",
       "      <td>1400</td>\n",
       "      <td>30</td>\n",
       "      <td>Sugarcane</td>\n",
       "      <td>MOP</td>\n",
       "    </tr>\n",
       "    <tr>\n",
       "      <th>4512</th>\n",
       "      <td>0</td>\n",
       "      <td>150</td>\n",
       "      <td>80</td>\n",
       "      <td>150</td>\n",
       "      <td>7.0</td>\n",
       "      <td>1400</td>\n",
       "      <td>30</td>\n",
       "      <td>Sugarcane</td>\n",
       "      <td>MOP</td>\n",
       "    </tr>\n",
       "  </tbody>\n",
       "</table>\n",
       "</div>"
      ],
      "text/plain": [
       "      Soil_color  Nitrogen  Phosphorus  Potassium   pH  Rainfall  Temperature  \\\n",
       "4508           0       130          80        150  7.0      1400           30   \n",
       "4509           0       135          80        150  7.0      1400           30   \n",
       "4510           0       140          80        150  7.0      1400           30   \n",
       "4511           0       145          80        150  7.0      1400           30   \n",
       "4512           0       150          80        150  7.0      1400           30   \n",
       "\n",
       "           Crop Fertilizer  \n",
       "4508  Sugarcane        MOP  \n",
       "4509  Sugarcane        MOP  \n",
       "4510  Sugarcane        MOP  \n",
       "4511  Sugarcane        MOP  \n",
       "4512  Sugarcane        MOP  "
      ]
     },
     "execution_count": 6,
     "metadata": {},
     "output_type": "execute_result"
    }
   ],
   "source": [
    "df.tail()"
   ]
  },
  {
   "cell_type": "code",
   "execution_count": 7,
   "metadata": {},
   "outputs": [
    {
     "data": {
      "text/plain": [
       "40617"
      ]
     },
     "execution_count": 7,
     "metadata": {},
     "output_type": "execute_result"
    }
   ],
   "source": [
    "df.size"
   ]
  },
  {
   "cell_type": "code",
   "execution_count": 8,
   "metadata": {},
   "outputs": [
    {
     "data": {
      "text/plain": [
       "(4513, 9)"
      ]
     },
     "execution_count": 8,
     "metadata": {},
     "output_type": "execute_result"
    }
   ],
   "source": [
    "df.shape"
   ]
  },
  {
   "cell_type": "code",
   "execution_count": 9,
   "metadata": {},
   "outputs": [
    {
     "data": {
      "text/plain": [
       "Index(['Soil_color', 'Nitrogen', 'Phosphorus', 'Potassium', 'pH', 'Rainfall',\n",
       "       'Temperature', 'Crop', 'Fertilizer'],\n",
       "      dtype='object')"
      ]
     },
     "execution_count": 9,
     "metadata": {},
     "output_type": "execute_result"
    }
   ],
   "source": [
    "df.columns"
   ]
  },
  {
   "cell_type": "markdown",
   "metadata": {},
   "source": []
  },
  {
   "cell_type": "markdown",
   "metadata": {},
   "source": []
  },
  {
   "cell_type": "code",
   "execution_count": 10,
   "metadata": {},
   "outputs": [
    {
     "data": {
      "text/plain": [
       "array(['Sugarcane', 'Jowar', 'Cotton', 'Rice', 'Wheat', 'Groundnut',\n",
       "       'Maize', 'Tur', 'Urad', 'Moong', 'Gram', 'Masoor', 'Soybean',\n",
       "       'Ginger', 'Turmeric', 'Grapes'], dtype=object)"
      ]
     },
     "execution_count": 10,
     "metadata": {},
     "output_type": "execute_result"
    }
   ],
   "source": [
    "df['Crop'].unique()"
   ]
  },
  {
   "cell_type": "code",
   "execution_count": 12,
   "metadata": {},
   "outputs": [
    {
     "data": {
      "text/plain": [
       "16"
      ]
     },
     "execution_count": 12,
     "metadata": {},
     "output_type": "execute_result"
    }
   ],
   "source": [
    "len(df['Crop'].unique())"
   ]
  },
  {
   "cell_type": "code",
   "execution_count": 13,
   "metadata": {},
   "outputs": [
    {
     "data": {
      "text/plain": [
       "Soil_color       int64\n",
       "Nitrogen         int64\n",
       "Phosphorus       int64\n",
       "Potassium        int64\n",
       "pH             float64\n",
       "Rainfall         int64\n",
       "Temperature      int64\n",
       "Crop            object\n",
       "Fertilizer      object\n",
       "dtype: object"
      ]
     },
     "execution_count": 13,
     "metadata": {},
     "output_type": "execute_result"
    }
   ],
   "source": [
    "df.dtypes"
   ]
  },
  {
   "cell_type": "code",
   "execution_count": 16,
   "metadata": {},
   "outputs": [
    {
     "data": {
      "text/plain": [
       "Sugarcane    1010\n",
       "Wheat         859\n",
       "Cotton        650\n",
       "Jowar         394\n",
       "Maize         350\n",
       "Rice          309\n",
       "Groundnut     177\n",
       "Tur           126\n",
       "Ginger        125\n",
       "Grapes        125\n",
       "Urad           99\n",
       "Moong          99\n",
       "Gram           78\n",
       "Turmeric       55\n",
       "Soybean        45\n",
       "Masoor         12\n",
       "Name: Crop, dtype: int64"
      ]
     },
     "execution_count": 16,
     "metadata": {},
     "output_type": "execute_result"
    }
   ],
   "source": [
    "df['Crop'].value_counts()"
   ]
  },
  {
   "cell_type": "code",
   "execution_count": 17,
   "metadata": {},
   "outputs": [
    {
     "data": {
      "text/plain": [
       "<AxesSubplot:>"
      ]
     },
     "execution_count": 17,
     "metadata": {},
     "output_type": "execute_result"
    },
    {
     "data": {
      "image/png": "[encoded data removed]",
      "text/plain": [
       "<Figure size 640x480 with 2 Axes>"
      ]
     },
     "metadata": {},
     "output_type": "display_data"
    }
   ],
   "source": [
    "sns.heatmap(df.corr(),annot=True)"
   ]
  },
  {
   "cell_type": "markdown",
   "metadata": {},
   "source": [
    "### Seperating features and target label"
   ]
  },
  {
   "cell_type": "code",
   "execution_count": 18,
   "metadata": {},
   "outputs": [],
   "source": [
    "features = df[['Soil_color', 'Nitrogen', 'Phosphorus', 'Potassium', 'pH', 'Rainfall',\n",
    "       'Temperature']]\n",
    "target = df['Crop']"
   ]
  },
  {
   "cell_type": "code",
   "execution_count": 19,
   "metadata": {},
   "outputs": [],
   "source": [
    "# Initialzing empty lists to append all model's name and corresponding name\n",
    "acc = []\n",
    "model = []"
   ]
  },
  {
   "cell_type": "code",
   "execution_count": 20,
   "metadata": {},
   "outputs": [],
   "source": [
    "# Splitting into train and test data\n",
    "\n",
    "from sklearn.model_selection import train_test_split\n",
    "Xtrain, Xtest, Ytrain, Ytest = train_test_split(features,target,test_size = 0.2,random_state =2)"
   ]
  },
  {
   "cell_type": "markdown",
   "metadata": {},
   "source": [
    "# Decision Tree"
   ]
  },
  {
   "cell_type": "code",
   "execution_count": 21,
   "metadata": {},
   "outputs": [
    {
     "name": "stdout",
     "output_type": "stream",
     "text": [
      "DecisionTrees's Accuracy is:  76.19047619047619\n",
      "              precision    recall  f1-score   support\n",
      "\n",
      "      Cotton       0.85      0.68      0.75       139\n",
      "      Ginger       1.00      0.86      0.92        21\n",
      "        Gram       0.67      0.17      0.27        12\n",
      "      Grapes       1.00      1.00      1.00        29\n",
      "   Groundnut       0.62      0.45      0.53        33\n",
      "       Jowar       0.44      0.82      0.57        89\n",
      "       Maize       0.90      0.99      0.94        74\n",
      "      Masoor       1.00      1.00      1.00         2\n",
      "       Moong       0.00      0.00      0.00        23\n",
      "        Rice       0.60      0.54      0.57        59\n",
      "     Soybean       0.00      0.00      0.00         9\n",
      "   Sugarcane       1.00      0.90      0.95       188\n",
      "         Tur       0.77      0.74      0.75        27\n",
      "    Turmeric       0.00      0.00      0.00         7\n",
      "        Urad       0.00      0.00      0.00        16\n",
      "       Wheat       0.73      0.91      0.81       175\n",
      "\n",
      "    accuracy                           0.76       903\n",
      "   macro avg       0.60      0.57      0.57       903\n",
      "weighted avg       0.75      0.76      0.74       903\n",
      "\n"
     ]
    }
   ],
   "source": [
    "from sklearn.tree import DecisionTreeClassifier\n",
    "\n",
    "DecisionTree = DecisionTreeClassifier(criterion=\"entropy\",random_state=2,max_depth=5)\n",
    "\n",
    "DecisionTree.fit(Xtrain,Ytrain)\n",
    "\n",
    "predicted_values = DecisionTree.predict(Xtest)\n",
    "x = metrics.accuracy_score(Ytest, predicted_values)\n",
    "acc.append(x)\n",
    "model.append('Decision Tree')\n",
    "print(\"DecisionTrees's Accuracy is: \", x*100)\n",
    "\n",
    "print(classification_report(Ytest,predicted_values))"
   ]
  },
  {
   "cell_type": "code",
   "execution_count": 22,
   "metadata": {},
   "outputs": [],
   "source": [
    "from sklearn.model_selection import cross_val_score"
   ]
  },
  {
   "cell_type": "code",
   "execution_count": 23,
   "metadata": {},
   "outputs": [],
   "source": [
    "# Cross validation score (Decision Tree)\n",
    "score = cross_val_score(DecisionTree, features, target,cv=5)"
   ]
  },
  {
   "cell_type": "code",
   "execution_count": 24,
   "metadata": {},
   "outputs": [
    {
     "data": {
      "text/plain": [
       "array([0.57364341, 0.75415282, 0.7807309 , 0.68070953, 0.63636364])"
      ]
     },
     "execution_count": 24,
     "metadata": {},
     "output_type": "execute_result"
    }
   ],
   "source": [
    "score"
   ]
  },
  {
   "cell_type": "markdown",
   "metadata": {},
   "source": [
    "### Saving trained Decision Tree model"
   ]
  },
  {
   "cell_type": "code",
   "execution_count": 26,
   "metadata": {},
   "outputs": [],
   "source": [
    "import pickle\n",
    "# Dump the trained Naive Bayes classifier with Pickle\n",
    "DT_pkl_filename = 'models/DecisionTree.pkl'\n",
    "# Open the file to save as pkl file\n",
    "DT_Model_pkl = open(DT_pkl_filename, 'wb')\n",
    "pickle.dump(DecisionTree, DT_Model_pkl)\n",
    "# Close the pickle instances\n",
    "DT_Model_pkl.close()"
   ]
  },
  {
   "cell_type": "markdown",
   "metadata": {},
   "source": [
    "# Guassian Naive Bayes"
   ]
  },
  {
   "cell_type": "code",
   "execution_count": 27,
   "metadata": {},
   "outputs": [
    {
     "name": "stdout",
     "output_type": "stream",
     "text": [
      "Naive Bayes's Accuracy is:  0.7796234772978959\n",
      "              precision    recall  f1-score   support\n",
      "\n",
      "      Cotton       0.77      0.88      0.83       139\n",
      "      Ginger       1.00      1.00      1.00        21\n",
      "        Gram       0.15      1.00      0.26        12\n",
      "      Grapes       1.00      1.00      1.00        29\n",
      "   Groundnut       0.38      0.09      0.15        33\n",
      "       Jowar       0.55      0.19      0.28        89\n",
      "       Maize       0.86      1.00      0.92        74\n",
      "      Masoor       1.00      1.00      1.00         2\n",
      "       Moong       0.89      0.35      0.50        23\n",
      "        Rice       0.64      0.64      0.64        59\n",
      "     Soybean       0.56      1.00      0.72         9\n",
      "   Sugarcane       0.99      0.95      0.97       188\n",
      "         Tur       0.79      0.85      0.82        27\n",
      "    Turmeric       0.83      0.71      0.77         7\n",
      "        Urad       0.45      0.62      0.53        16\n",
      "       Wheat       0.92      0.87      0.89       175\n",
      "\n",
      "    accuracy                           0.78       903\n",
      "   macro avg       0.74      0.76      0.71       903\n",
      "weighted avg       0.81      0.78      0.77       903\n",
      "\n"
     ]
    }
   ],
   "source": [
    "from sklearn.naive_bayes import GaussianNB\n",
    "\n",
    "NaiveBayes = GaussianNB()\n",
    "\n",
    "NaiveBayes.fit(Xtrain,Ytrain)\n",
    "\n",
    "predicted_values = NaiveBayes.predict(Xtest)\n",
    "x = metrics.accuracy_score(Ytest, predicted_values)\n",
    "acc.append(x)\n",
    "model.append('Naive Bayes')\n",
    "print(\"Naive Bayes's Accuracy is: \", x)\n",
    "\n",
    "print(classification_report(Ytest,predicted_values))"
   ]
  },
  {
   "cell_type": "code",
   "execution_count": 28,
   "metadata": {},
   "outputs": [
    {
     "data": {
      "text/plain": [
       "array([0.55924695, 0.82613511, 0.79069767, 0.61419069, 0.6075388 ])"
      ]
     },
     "execution_count": 28,
     "metadata": {},
     "output_type": "execute_result"
    }
   ],
   "source": [
    "# Cross validation score (NaiveBayes)\n",
    "score = cross_val_score(NaiveBayes,features,target,cv=5)\n",
    "score"
   ]
  },
  {
   "cell_type": "markdown",
   "metadata": {},
   "source": [
    "### Saving trained Guassian Naive Bayes model"
   ]
  },
  {
   "cell_type": "code",
   "execution_count": 29,
   "metadata": {},
   "outputs": [],
   "source": [
    "import pickle\n",
    "# Dump the trained Naive Bayes classifier with Pickle\n",
    "NB_pkl_filename = 'models/NBClassifier.pkl'\n",
    "# Open the file to save as pkl file\n",
    "NB_Model_pkl = open(NB_pkl_filename, 'wb')\n",
    "pickle.dump(NaiveBayes, NB_Model_pkl)\n",
    "# Close the pickle instances\n",
    "NB_Model_pkl.close()"
   ]
  },
  {
   "cell_type": "markdown",
   "metadata": {},
   "source": [
    "# Support Vector Machine (SVM)"
   ]
  },
  {
   "cell_type": "code",
   "execution_count": 30,
   "metadata": {},
   "outputs": [
    {
     "name": "stdout",
     "output_type": "stream",
     "text": [
      "SVM's Accuracy is:  0.955703211517165\n",
      "              precision    recall  f1-score   support\n",
      "\n",
      "      Cotton       1.00      1.00      1.00       139\n",
      "      Ginger       1.00      1.00      1.00        21\n",
      "        Gram       0.47      0.58      0.52        12\n",
      "      Grapes       1.00      1.00      1.00        29\n",
      "   Groundnut       0.82      0.55      0.65        33\n",
      "       Jowar       0.79      0.98      0.87        89\n",
      "       Maize       1.00      1.00      1.00        74\n",
      "      Masoor       1.00      1.00      1.00         2\n",
      "       Moong       0.89      0.70      0.78        23\n",
      "        Rice       1.00      1.00      1.00        59\n",
      "     Soybean       0.82      1.00      0.90         9\n",
      "   Sugarcane       1.00      1.00      1.00       188\n",
      "         Tur       1.00      0.93      0.96        27\n",
      "    Turmeric       1.00      1.00      1.00         7\n",
      "        Urad       0.88      0.44      0.58        16\n",
      "       Wheat       1.00      1.00      1.00       175\n",
      "\n",
      "    accuracy                           0.96       903\n",
      "   macro avg       0.92      0.89      0.89       903\n",
      "weighted avg       0.96      0.96      0.95       903\n",
      "\n"
     ]
    }
   ],
   "source": [
    "from sklearn.svm import SVC\n",
    "# data normalization with sklearn\n",
    "from sklearn.preprocessing import MinMaxScaler\n",
    "# fit scaler on training data\n",
    "norm = MinMaxScaler().fit(Xtrain)\n",
    "X_train_norm = norm.transform(Xtrain)\n",
    "# transform testing dataabs\n",
    "X_test_norm = norm.transform(Xtest)\n",
    "SVM = SVC(kernel='poly', degree=3, C=1)\n",
    "SVM.fit(X_train_norm,Ytrain)\n",
    "predicted_values = SVM.predict(X_test_norm)\n",
    "x = metrics.accuracy_score(Ytest, predicted_values)\n",
    "acc.append(x)\n",
    "model.append('SVM')\n",
    "print(\"SVM's Accuracy is: \", x)\n",
    "\n",
    "print(classification_report(Ytest,predicted_values))"
   ]
  },
  {
   "cell_type": "code",
   "execution_count": 31,
   "metadata": {},
   "outputs": [
    {
     "data": {
      "text/plain": [
       "array([0.43078627, 0.65005537, 0.64784053, 0.48447894, 0.50997783])"
      ]
     },
     "execution_count": 31,
     "metadata": {},
     "output_type": "execute_result"
    }
   ],
   "source": [
    "# Cross validation score (SVM)\n",
    "score = cross_val_score(SVM,features,target,cv=5)\n",
    "score"
   ]
  },
  {
   "cell_type": "code",
   "execution_count": 32,
   "metadata": {},
   "outputs": [],
   "source": [
    "#Saving trained SVM model"
   ]
  },
  {
   "cell_type": "code",
   "execution_count": 33,
   "metadata": {},
   "outputs": [],
   "source": [
    "import pickle\n",
    "# Dump the trained SVM classifier with Pickle\n",
    "SVM_pkl_filename = 'models/SVMClassifier.pkl'\n",
    "# Open the file to save as pkl file\n",
    "SVM_Model_pkl = open(SVM_pkl_filename, 'wb')\n",
    "pickle.dump(SVM, SVM_Model_pkl)\n",
    "# Close the pickle instances\n",
    "SVM_Model_pkl.close()"
   ]
  },
  {
   "cell_type": "markdown",
   "metadata": {},
   "source": [
    "# Logistic Regression"
   ]
  },
  {
   "cell_type": "code",
   "execution_count": 34,
   "metadata": {},
   "outputs": [
    {
     "name": "stdout",
     "output_type": "stream",
     "text": [
      "Logistic Regression's Accuracy is:  0.6157253599114064\n",
      "              precision    recall  f1-score   support\n",
      "\n",
      "      Cotton       0.55      0.66      0.60       139\n",
      "      Ginger       0.76      0.90      0.83        21\n",
      "        Gram       0.31      0.33      0.32        12\n",
      "      Grapes       0.96      0.90      0.93        29\n",
      "   Groundnut       0.50      0.67      0.57        33\n",
      "       Jowar       0.50      0.64      0.56        89\n",
      "       Maize       0.85      0.96      0.90        74\n",
      "      Masoor       0.00      0.00      0.00         2\n",
      "       Moong       0.00      0.00      0.00        23\n",
      "        Rice       0.59      0.68      0.63        59\n",
      "     Soybean       0.00      0.00      0.00         9\n",
      "   Sugarcane       0.74      0.74      0.74       188\n",
      "         Tur       0.67      0.07      0.13        27\n",
      "    Turmeric       0.57      0.57      0.57         7\n",
      "        Urad       0.33      0.06      0.11        16\n",
      "       Wheat       0.50      0.45      0.47       175\n",
      "\n",
      "    accuracy                           0.62       903\n",
      "   macro avg       0.49      0.48      0.46       903\n",
      "weighted avg       0.59      0.62      0.59       903\n",
      "\n"
     ]
    }
   ],
   "source": [
    "from sklearn.linear_model import LogisticRegression\n",
    "\n",
    "LogReg = LogisticRegression(random_state=2)\n",
    "\n",
    "LogReg.fit(Xtrain,Ytrain)\n",
    "\n",
    "predicted_values = LogReg.predict(Xtest)\n",
    "\n",
    "x = metrics.accuracy_score(Ytest, predicted_values)\n",
    "acc.append(x)\n",
    "model.append('Logistic Regression')\n",
    "print(\"Logistic Regression's Accuracy is: \", x)\n",
    "\n",
    "print(classification_report(Ytest,predicted_values))"
   ]
  },
  {
   "cell_type": "code",
   "execution_count": 35,
   "metadata": {},
   "outputs": [
    {
     "data": {
      "text/plain": [
       "array([0.43300111, 0.62126246, 0.65559247, 0.51773836, 0.58314856])"
      ]
     },
     "execution_count": 35,
     "metadata": {},
     "output_type": "execute_result"
    }
   ],
   "source": [
    "# Cross validation score (Logistic Regression)\n",
    "score = cross_val_score(LogReg,features,target,cv=5)\n",
    "score"
   ]
  },
  {
   "cell_type": "markdown",
   "metadata": {},
   "source": [
    "### Saving trained Logistic Regression model"
   ]
  },
  {
   "cell_type": "code",
   "execution_count": 36,
   "metadata": {},
   "outputs": [],
   "source": [
    "import pickle\n",
    "# Dump the trained Naive Bayes classifier with Pickle\n",
    "LR_pkl_filename = 'models/LogisticRegression.pkl'\n",
    "# Open the file to save as pkl file\n",
    "LR_Model_pkl = open(DT_pkl_filename, 'wb')\n",
    "pickle.dump(LogReg, LR_Model_pkl)\n",
    "# Close the pickle instances\n",
    "LR_Model_pkl.close()"
   ]
  },
  {
   "cell_type": "markdown",
   "metadata": {},
   "source": [
    "# Random Forest"
   ]
  },
  {
   "cell_type": "code",
   "execution_count": 37,
   "metadata": {},
   "outputs": [
    {
     "name": "stdout",
     "output_type": "stream",
     "text": [
      "RF's Accuracy is:  0.9988925802879292\n",
      "              precision    recall  f1-score   support\n",
      "\n",
      "      Cotton       1.00      1.00      1.00       139\n",
      "      Ginger       1.00      1.00      1.00        21\n",
      "        Gram       1.00      0.92      0.96        12\n",
      "      Grapes       1.00      1.00      1.00        29\n",
      "   Groundnut       0.97      1.00      0.99        33\n",
      "       Jowar       1.00      1.00      1.00        89\n",
      "       Maize       1.00      1.00      1.00        74\n",
      "      Masoor       1.00      1.00      1.00         2\n",
      "       Moong       1.00      1.00      1.00        23\n",
      "        Rice       1.00      1.00      1.00        59\n",
      "     Soybean       1.00      1.00      1.00         9\n",
      "   Sugarcane       1.00      1.00      1.00       188\n",
      "         Tur       1.00      1.00      1.00        27\n",
      "    Turmeric       1.00      1.00      1.00         7\n",
      "        Urad       1.00      1.00      1.00        16\n",
      "       Wheat       1.00      1.00      1.00       175\n",
      "\n",
      "    accuracy                           1.00       903\n",
      "   macro avg       1.00      0.99      1.00       903\n",
      "weighted avg       1.00      1.00      1.00       903\n",
      "\n"
     ]
    }
   ],
   "source": [
    "from sklearn.ensemble import RandomForestClassifier\n",
    "\n",
    "RF = RandomForestClassifier(n_estimators=20, random_state=0)\n",
    "RF.fit(Xtrain,Ytrain)\n",
    "\n",
    "predicted_values = RF.predict(Xtest)\n",
    "\n",
    "x = metrics.accuracy_score(Ytest, predicted_values)\n",
    "acc.append(x)\n",
    "model.append('RF')\n",
    "print(\"RF's Accuracy is: \", x)\n",
    "\n",
    "print(classification_report(Ytest,predicted_values))"
   ]
  },
  {
   "cell_type": "code",
   "execution_count": 38,
   "metadata": {},
   "outputs": [
    {
     "data": {
      "text/plain": [
       "array([0.74307863, 0.9269103 , 0.94905869, 0.98226164, 0.73503326])"
      ]
     },
     "execution_count": 38,
     "metadata": {},
     "output_type": "execute_result"
    }
   ],
   "source": [
    "# Cross validation score (Random Forest)\n",
    "score = cross_val_score(RF,features,target,cv=5)\n",
    "score"
   ]
  },
  {
   "cell_type": "markdown",
   "metadata": {},
   "source": [
    "### Saving trained Random Forest model"
   ]
  },
  {
   "cell_type": "code",
   "execution_count": 39,
   "metadata": {},
   "outputs": [],
   "source": [
    "import pickle\n",
    "# Dump the trained Naive Bayes classifier with Pickle\n",
    "RF_pkl_filename = 'models/RandomForest.pkl'\n",
    "# Open the file to save as pkl file\n",
    "RF_Model_pkl = open(RF_pkl_filename, 'wb')\n",
    "pickle.dump(RF, RF_Model_pkl)\n",
    "# Close the pickle instances\n",
    "RF_Model_pkl.close()"
   ]
  },
  {
   "cell_type": "markdown",
   "metadata": {},
   "source": [
    "# XGBoost"
   ]
  },
  {
   "cell_type": "code",
   "execution_count": 40,
   "metadata": {
    "scrolled": true
   },
   "outputs": [
    {
     "name": "stdout",
     "output_type": "stream",
     "text": [
      "[01:46:42] WARNING: C:/Users/Administrator/workspace/xgboost-win64_release_1.5.0/src/learner.cc:1115: Starting in XGBoost 1.3.0, the default evaluation metric used with the objective 'multi:softprob' was changed from 'merror' to 'mlogloss'. Explicitly set eval_metric if you'd like to restore the old behavior.\n",
      "XGBoost's Accuracy is:  1.0\n",
      "              precision    recall  f1-score   support\n",
      "\n",
      "      Cotton       1.00      1.00      1.00       139\n",
      "      Ginger       1.00      1.00      1.00        21\n",
      "        Gram       1.00      1.00      1.00        12\n",
      "      Grapes       1.00      1.00      1.00        29\n",
      "   Groundnut       1.00      1.00      1.00        33\n",
      "       Jowar       1.00      1.00      1.00        89\n",
      "       Maize       1.00      1.00      1.00        74\n",
      "      Masoor       1.00      1.00      1.00         2\n",
      "       Moong       1.00      1.00      1.00        23\n",
      "        Rice       1.00      1.00      1.00        59\n",
      "     Soybean       1.00      1.00      1.00         9\n",
      "   Sugarcane       1.00      1.00      1.00       188\n",
      "         Tur       1.00      1.00      1.00        27\n",
      "    Turmeric       1.00      1.00      1.00         7\n",
      "        Urad       1.00      1.00      1.00        16\n",
      "       Wheat       1.00      1.00      1.00       175\n",
      "\n",
      "    accuracy                           1.00       903\n",
      "   macro avg       1.00      1.00      1.00       903\n",
      "weighted avg       1.00      1.00      1.00       903\n",
      "\n"
     ]
    }
   ],
   "source": [
    "import xgboost as xgb\n",
    "XB = xgb.XGBClassifier()\n",
    "XB.fit(Xtrain,Ytrain)\n",
    "\n",
    "predicted_values = XB.predict(Xtest)\n",
    "\n",
    "x = metrics.accuracy_score(Ytest, predicted_values)\n",
    "acc.append(x)\n",
    "model.append('XGBoost')\n",
    "print(\"XGBoost's Accuracy is: \", x)\n",
    "\n",
    "print(classification_report(Ytest,predicted_values))"
   ]
  },
  {
   "cell_type": "code",
   "execution_count": 41,
   "metadata": {},
   "outputs": [
    {
     "name": "stdout",
     "output_type": "stream",
     "text": [
      "[01:46:44] WARNING: C:/Users/Administrator/workspace/xgboost-win64_release_1.5.0/src/learner.cc:1115: Starting in XGBoost 1.3.0, the default evaluation metric used with the objective 'multi:softprob' was changed from 'merror' to 'mlogloss'. Explicitly set eval_metric if you'd like to restore the old behavior.\n",
      "[01:46:46] WARNING: C:/Users/Administrator/workspace/xgboost-win64_release_1.5.0/src/learner.cc:1115: Starting in XGBoost 1.3.0, the default evaluation metric used with the objective 'multi:softprob' was changed from 'merror' to 'mlogloss'. Explicitly set eval_metric if you'd like to restore the old behavior.\n",
      "[01:46:48] WARNING: C:/Users/Administrator/workspace/xgboost-win64_release_1.5.0/src/learner.cc:1115: Starting in XGBoost 1.3.0, the default evaluation metric used with the objective 'multi:softprob' was changed from 'merror' to 'mlogloss'. Explicitly set eval_metric if you'd like to restore the old behavior.\n",
      "[01:46:50] WARNING: C:/Users/Administrator/workspace/xgboost-win64_release_1.5.0/src/learner.cc:1115: Starting in XGBoost 1.3.0, the default evaluation metric used with the objective 'multi:softprob' was changed from 'merror' to 'mlogloss'. Explicitly set eval_metric if you'd like to restore the old behavior.\n",
      "[01:46:52] WARNING: C:/Users/Administrator/workspace/xgboost-win64_release_1.5.0/src/learner.cc:1115: Starting in XGBoost 1.3.0, the default evaluation metric used with the objective 'multi:softprob' was changed from 'merror' to 'mlogloss'. Explicitly set eval_metric if you'd like to restore the old behavior.\n"
     ]
    },
    {
     "data": {
      "text/plain": [
       "array([0.72425249, 0.91915836, 0.95238095, 0.98669623, 0.76607539])"
      ]
     },
     "execution_count": 41,
     "metadata": {},
     "output_type": "execute_result"
    }
   ],
   "source": [
    "# Cross validation score (XGBoost)\n",
    "score = cross_val_score(XB,features,target,cv=5)\n",
    "score"
   ]
  },
  {
   "cell_type": "markdown",
   "metadata": {},
   "source": [
    "### Saving trained XGBoost model"
   ]
  },
  {
   "cell_type": "code",
   "execution_count": 42,
   "metadata": {},
   "outputs": [],
   "source": [
    "import pickle\n",
    "# Dump the trained Naive Bayes classifier with Pickle\n",
    "XB_pkl_filename = 'models/XGBoost.pkl'\n",
    "# Open the file to save as pkl file\n",
    "XB_Model_pkl = open(XB_pkl_filename, 'wb')\n",
    "pickle.dump(XB, XB_Model_pkl)\n",
    "# Close the pickle instances\n",
    "XB_Model_pkl.close()"
   ]
  },
  {
   "cell_type": "markdown",
   "metadata": {},
   "source": [
    "## Accuracy Comparison"
   ]
  },
  {
   "cell_type": "code",
   "execution_count": 43,
   "metadata": {},
   "outputs": [
    {
     "data": {
      "text/plain": [
       "<AxesSubplot:title={'center':'Accuracy Comparison'}, xlabel='Accuracy', ylabel='Algorithm'>"
      ]
     },
     "execution_count": 43,
     "metadata": {},
     "output_type": "execute_result"
    },
    {
     "data": {
      "image/png": "[encoded data removed]",
      "text/plain": [
       "<Figure size 1000x500 with 1 Axes>"
      ]
     },
     "metadata": {},
     "output_type": "display_data"
    }
   ],
   "source": [
    "plt.figure(figsize=[10,5],dpi = 100)\n",
    "plt.title('Accuracy Comparison')\n",
    "plt.xlabel('Accuracy')\n",
    "plt.ylabel('Algorithm')\n",
    "sns.barplot(x = acc,y = model,palette='dark')"
   ]
  },
  {
   "cell_type": "code",
   "execution_count": 42,
   "metadata": {},
   "outputs": [
    {
     "name": "stdout",
     "output_type": "stream",
     "text": [
      "Decision Tree --> 0.9\n",
      "Naive Bayes --> 0.990909090909091\n",
      "SVM --> 0.9795454545454545\n",
      "Logistic Regression --> 0.9522727272727273\n",
      "RF --> 0.990909090909091\n",
      "XGBoost --> 0.9931818181818182\n"
     ]
    }
   ],
   "source": [
    "accuracy_models = dict(zip(model, acc))\n",
    "for k, v in accuracy_models.items():\n",
    "    print (f\"{k} -->  {v}\")"
   ]
  },
  {
   "cell_type": "markdown",
   "metadata": {},
   "source": [
    "## Making a prediction"
   ]
  },
  {
   "cell_type": "code",
   "execution_count": 43,
   "metadata": {},
   "outputs": [
    {
     "name": "stdout",
     "output_type": "stream",
     "text": [
      "['coffee']\n"
     ]
    }
   ],
   "source": [
    "data = np.array([[104,18, 30, 23.603016, 60.3, 6.7, 140.91]])\n",
    "prediction = RF.predict(data)\n",
    "print(prediction)"
   ]
  },
  {
   "cell_type": "code",
   "execution_count": 44,
   "metadata": {},
   "outputs": [
    {
     "name": "stdout",
     "output_type": "stream",
     "text": [
      "['jute']\n"
     ]
    }
   ],
   "source": [
    "data = np.array([[83, 45, 60, 28, 70.3, 7.0, 150.9]])\n",
    "prediction = RF.predict(data)\n",
    "print(prediction)"
   ]
  }
 ],
 "metadata": {
  "kernelspec": {
   "display_name": "Python 3 (ipykernel)",
   "language": "python",
   "name": "python3"
  },
  "language_info": {
   "codemirror_mode": {
    "name": "ipython",
    "version": 3
   },
   "file_extension": ".py",
   "mimetype": "text/x-python",
   "name": "python",
   "nbconvert_exporter": "python",
   "pygments_lexer": "ipython3",
   "version": "3.7.1"
  }
 },
 "nbformat": 4,
 "nbformat_minor": 4
}
